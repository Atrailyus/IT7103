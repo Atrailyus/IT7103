{
  "cells": [
    {
      "cell_type": "markdown",
      "metadata": {
        "id": "view-in-github",
        "colab_type": "text"
      },
      "source": [
        "<a href=\"https://colab.research.google.com/github/Atrailyus/IT7103/blob/main/data_processing%20Group%20project%20IT7103.ipynb\" target=\"_parent\"><img src=\"https://colab.research.google.com/assets/colab-badge.svg\" alt=\"Open In Colab\"/></a>"
      ]
    },
    {
      "cell_type": "markdown",
      "id": "55775065",
      "metadata": {
        "id": "55775065"
      },
      "source": [
        "Data Preprocessing Group Porject IT7103\n",
        "\n",
        "\n",
        "\n",
        "import and load the data."
      ]
    },
    {
      "cell_type": "code",
      "execution_count": 36,
      "id": "8dc3b585",
      "metadata": {
        "colab": {
          "base_uri": "https://localhost:8080/"
        },
        "id": "8dc3b585",
        "outputId": "f47a1866-748c-4f86-c11a-b4a5fa0d0955"
      },
      "outputs": [
        {
          "output_type": "stream",
          "name": "stdout",
          "text": [
            "Drive already mounted at /content/drive; to attempt to forcibly remount, call drive.mount(\"/content/drive\", force_remount=True).\n"
          ]
        }
      ],
      "source": [
        "import os\n",
        "import numpy as np\n",
        "import pandas as pd\n",
        "import matplotlib.pyplot as plt\n",
        "import seaborn as sns\n",
        "from google.colab import drive\n",
        "drive.mount('/content/drive')"
      ]
    },
    {
      "cell_type": "code",
      "execution_count": 37,
      "id": "0fdda641",
      "metadata": {
        "scrolled": true,
        "colab": {
          "base_uri": "https://localhost:8080/",
          "height": 348
        },
        "id": "0fdda641",
        "outputId": "4cf011bf-1c02-4e60-c791-325fb535ec1f"
      },
      "outputs": [
        {
          "output_type": "stream",
          "name": "stderr",
          "text": [
            "/usr/local/lib/python3.11/dist-packages/google/colab/_dataframe_summarizer.py:88: UserWarning: Could not infer format, so each element will be parsed individually, falling back to `dateutil`. To ensure parsing is consistent and as-expected, please specify a format.\n",
            "  cast_date_col = pd.to_datetime(column, errors=\"coerce\")\n"
          ]
        },
        {
          "output_type": "execute_result",
          "data": {
            "text/plain": [
              "                               title user_Score   release_Date console  \\\n",
              "0                     Wii Sports          N/A    19th Nov 06       Wii   \n",
              "1              Super Mario Bros.            8.2  18th Oct 85       NES   \n",
              "2                 Mario Kart Wii            9.1  27th Apr 08       Wii   \n",
              "3  PlayerUnknown's Battlegrounds          N/A    21st Dec 17        PC   \n",
              "4              Wii Sports Resort            8.8  26th Jul 09       Wii   \n",
              "\n",
              "                                                 url           publisher  \\\n",
              "0  http://www.vgchartz.com/game/2667/wii-sports/?...          Nintendo     \n",
              "1  http://www.vgchartz.com/game/6455/super-mario-...          Nintendo     \n",
              "2  http://www.vgchartz.com/game/6968/mario-kart-w...          Nintendo     \n",
              "3  http://www.vgchartz.com/game/215988/playerunkn...  PUBG Corporation     \n",
              "4  http://www.vgchartz.com/game/24656/wii-sports-...          Nintendo     \n",
              "\n",
              "            developer tot_ship tot_sale na_sale pal_sale jp_sale other_sale  \\\n",
              "0      Nintendo EAD     82.87m      NaN     NaN      NaN     NaN        NaN   \n",
              "1      Nintendo EAD     40.24m      NaN     NaN      NaN     NaN        NaN   \n",
              "2      Nintendo EAD     37.20m      NaN     NaN      NaN     NaN        NaN   \n",
              "3  PUBG Corporation     36.60m      NaN     NaN      NaN     NaN        NaN   \n",
              "4      Nintendo EAD     33.10m      NaN     NaN      NaN     NaN        NaN   \n",
              "\n",
              "   last_update VGscore  \n",
              "0          NaN   N/A    \n",
              "1          NaN   N/A    \n",
              "2  11th Apr 18     8.7  \n",
              "3  13th Nov 18   N/A    \n",
              "4          NaN     8.8  "
            ],
            "text/html": [
              "\n",
              "  <div id=\"df-c52a1b90-1d8a-41ba-adca-8d55f9a3eca0\" class=\"colab-df-container\">\n",
              "    <div>\n",
              "<style scoped>\n",
              "    .dataframe tbody tr th:only-of-type {\n",
              "        vertical-align: middle;\n",
              "    }\n",
              "\n",
              "    .dataframe tbody tr th {\n",
              "        vertical-align: top;\n",
              "    }\n",
              "\n",
              "    .dataframe thead th {\n",
              "        text-align: right;\n",
              "    }\n",
              "</style>\n",
              "<table border=\"1\" class=\"dataframe\">\n",
              "  <thead>\n",
              "    <tr style=\"text-align: right;\">\n",
              "      <th></th>\n",
              "      <th>title</th>\n",
              "      <th>user_Score</th>\n",
              "      <th>release_Date</th>\n",
              "      <th>console</th>\n",
              "      <th>url</th>\n",
              "      <th>publisher</th>\n",
              "      <th>developer</th>\n",
              "      <th>tot_ship</th>\n",
              "      <th>tot_sale</th>\n",
              "      <th>na_sale</th>\n",
              "      <th>pal_sale</th>\n",
              "      <th>jp_sale</th>\n",
              "      <th>other_sale</th>\n",
              "      <th>last_update</th>\n",
              "      <th>VGscore</th>\n",
              "    </tr>\n",
              "  </thead>\n",
              "  <tbody>\n",
              "    <tr>\n",
              "      <th>0</th>\n",
              "      <td>Wii Sports</td>\n",
              "      <td>N/A</td>\n",
              "      <td>19th Nov 06</td>\n",
              "      <td>Wii</td>\n",
              "      <td>http://www.vgchartz.com/game/2667/wii-sports/?...</td>\n",
              "      <td>Nintendo</td>\n",
              "      <td>Nintendo EAD</td>\n",
              "      <td>82.87m</td>\n",
              "      <td>NaN</td>\n",
              "      <td>NaN</td>\n",
              "      <td>NaN</td>\n",
              "      <td>NaN</td>\n",
              "      <td>NaN</td>\n",
              "      <td>NaN</td>\n",
              "      <td>N/A</td>\n",
              "    </tr>\n",
              "    <tr>\n",
              "      <th>1</th>\n",
              "      <td>Super Mario Bros.</td>\n",
              "      <td>8.2</td>\n",
              "      <td>18th Oct 85</td>\n",
              "      <td>NES</td>\n",
              "      <td>http://www.vgchartz.com/game/6455/super-mario-...</td>\n",
              "      <td>Nintendo</td>\n",
              "      <td>Nintendo EAD</td>\n",
              "      <td>40.24m</td>\n",
              "      <td>NaN</td>\n",
              "      <td>NaN</td>\n",
              "      <td>NaN</td>\n",
              "      <td>NaN</td>\n",
              "      <td>NaN</td>\n",
              "      <td>NaN</td>\n",
              "      <td>N/A</td>\n",
              "    </tr>\n",
              "    <tr>\n",
              "      <th>2</th>\n",
              "      <td>Mario Kart Wii</td>\n",
              "      <td>9.1</td>\n",
              "      <td>27th Apr 08</td>\n",
              "      <td>Wii</td>\n",
              "      <td>http://www.vgchartz.com/game/6968/mario-kart-w...</td>\n",
              "      <td>Nintendo</td>\n",
              "      <td>Nintendo EAD</td>\n",
              "      <td>37.20m</td>\n",
              "      <td>NaN</td>\n",
              "      <td>NaN</td>\n",
              "      <td>NaN</td>\n",
              "      <td>NaN</td>\n",
              "      <td>NaN</td>\n",
              "      <td>11th Apr 18</td>\n",
              "      <td>8.7</td>\n",
              "    </tr>\n",
              "    <tr>\n",
              "      <th>3</th>\n",
              "      <td>PlayerUnknown's Battlegrounds</td>\n",
              "      <td>N/A</td>\n",
              "      <td>21st Dec 17</td>\n",
              "      <td>PC</td>\n",
              "      <td>http://www.vgchartz.com/game/215988/playerunkn...</td>\n",
              "      <td>PUBG Corporation</td>\n",
              "      <td>PUBG Corporation</td>\n",
              "      <td>36.60m</td>\n",
              "      <td>NaN</td>\n",
              "      <td>NaN</td>\n",
              "      <td>NaN</td>\n",
              "      <td>NaN</td>\n",
              "      <td>NaN</td>\n",
              "      <td>13th Nov 18</td>\n",
              "      <td>N/A</td>\n",
              "    </tr>\n",
              "    <tr>\n",
              "      <th>4</th>\n",
              "      <td>Wii Sports Resort</td>\n",
              "      <td>8.8</td>\n",
              "      <td>26th Jul 09</td>\n",
              "      <td>Wii</td>\n",
              "      <td>http://www.vgchartz.com/game/24656/wii-sports-...</td>\n",
              "      <td>Nintendo</td>\n",
              "      <td>Nintendo EAD</td>\n",
              "      <td>33.10m</td>\n",
              "      <td>NaN</td>\n",
              "      <td>NaN</td>\n",
              "      <td>NaN</td>\n",
              "      <td>NaN</td>\n",
              "      <td>NaN</td>\n",
              "      <td>NaN</td>\n",
              "      <td>8.8</td>\n",
              "    </tr>\n",
              "  </tbody>\n",
              "</table>\n",
              "</div>\n",
              "    <div class=\"colab-df-buttons\">\n",
              "\n",
              "  <div class=\"colab-df-container\">\n",
              "    <button class=\"colab-df-convert\" onclick=\"convertToInteractive('df-c52a1b90-1d8a-41ba-adca-8d55f9a3eca0')\"\n",
              "            title=\"Convert this dataframe to an interactive table.\"\n",
              "            style=\"display:none;\">\n",
              "\n",
              "  <svg xmlns=\"http://www.w3.org/2000/svg\" height=\"24px\" viewBox=\"0 -960 960 960\">\n",
              "    <path d=\"M120-120v-720h720v720H120Zm60-500h600v-160H180v160Zm220 220h160v-160H400v160Zm0 220h160v-160H400v160ZM180-400h160v-160H180v160Zm440 0h160v-160H620v160ZM180-180h160v-160H180v160Zm440 0h160v-160H620v160Z\"/>\n",
              "  </svg>\n",
              "    </button>\n",
              "\n",
              "  <style>\n",
              "    .colab-df-container {\n",
              "      display:flex;\n",
              "      gap: 12px;\n",
              "    }\n",
              "\n",
              "    .colab-df-convert {\n",
              "      background-color: #E8F0FE;\n",
              "      border: none;\n",
              "      border-radius: 50%;\n",
              "      cursor: pointer;\n",
              "      display: none;\n",
              "      fill: #1967D2;\n",
              "      height: 32px;\n",
              "      padding: 0 0 0 0;\n",
              "      width: 32px;\n",
              "    }\n",
              "\n",
              "    .colab-df-convert:hover {\n",
              "      background-color: #E2EBFA;\n",
              "      box-shadow: 0px 1px 2px rgba(60, 64, 67, 0.3), 0px 1px 3px 1px rgba(60, 64, 67, 0.15);\n",
              "      fill: #174EA6;\n",
              "    }\n",
              "\n",
              "    .colab-df-buttons div {\n",
              "      margin-bottom: 4px;\n",
              "    }\n",
              "\n",
              "    [theme=dark] .colab-df-convert {\n",
              "      background-color: #3B4455;\n",
              "      fill: #D2E3FC;\n",
              "    }\n",
              "\n",
              "    [theme=dark] .colab-df-convert:hover {\n",
              "      background-color: #434B5C;\n",
              "      box-shadow: 0px 1px 3px 1px rgba(0, 0, 0, 0.15);\n",
              "      filter: drop-shadow(0px 1px 2px rgba(0, 0, 0, 0.3));\n",
              "      fill: #FFFFFF;\n",
              "    }\n",
              "  </style>\n",
              "\n",
              "    <script>\n",
              "      const buttonEl =\n",
              "        document.querySelector('#df-c52a1b90-1d8a-41ba-adca-8d55f9a3eca0 button.colab-df-convert');\n",
              "      buttonEl.style.display =\n",
              "        google.colab.kernel.accessAllowed ? 'block' : 'none';\n",
              "\n",
              "      async function convertToInteractive(key) {\n",
              "        const element = document.querySelector('#df-c52a1b90-1d8a-41ba-adca-8d55f9a3eca0');\n",
              "        const dataTable =\n",
              "          await google.colab.kernel.invokeFunction('convertToInteractive',\n",
              "                                                    [key], {});\n",
              "        if (!dataTable) return;\n",
              "\n",
              "        const docLinkHtml = 'Like what you see? Visit the ' +\n",
              "          '<a target=\"_blank\" href=https://colab.research.google.com/notebooks/data_table.ipynb>data table notebook</a>'\n",
              "          + ' to learn more about interactive tables.';\n",
              "        element.innerHTML = '';\n",
              "        dataTable['output_type'] = 'display_data';\n",
              "        await google.colab.output.renderOutput(dataTable, element);\n",
              "        const docLink = document.createElement('div');\n",
              "        docLink.innerHTML = docLinkHtml;\n",
              "        element.appendChild(docLink);\n",
              "      }\n",
              "    </script>\n",
              "  </div>\n",
              "\n",
              "\n",
              "<div id=\"df-27e593e1-6925-4d19-89a4-ea1d3c8aabcb\">\n",
              "  <button class=\"colab-df-quickchart\" onclick=\"quickchart('df-27e593e1-6925-4d19-89a4-ea1d3c8aabcb')\"\n",
              "            title=\"Suggest charts\"\n",
              "            style=\"display:none;\">\n",
              "\n",
              "<svg xmlns=\"http://www.w3.org/2000/svg\" height=\"24px\"viewBox=\"0 0 24 24\"\n",
              "     width=\"24px\">\n",
              "    <g>\n",
              "        <path d=\"M19 3H5c-1.1 0-2 .9-2 2v14c0 1.1.9 2 2 2h14c1.1 0 2-.9 2-2V5c0-1.1-.9-2-2-2zM9 17H7v-7h2v7zm4 0h-2V7h2v10zm4 0h-2v-4h2v4z\"/>\n",
              "    </g>\n",
              "</svg>\n",
              "  </button>\n",
              "\n",
              "<style>\n",
              "  .colab-df-quickchart {\n",
              "      --bg-color: #E8F0FE;\n",
              "      --fill-color: #1967D2;\n",
              "      --hover-bg-color: #E2EBFA;\n",
              "      --hover-fill-color: #174EA6;\n",
              "      --disabled-fill-color: #AAA;\n",
              "      --disabled-bg-color: #DDD;\n",
              "  }\n",
              "\n",
              "  [theme=dark] .colab-df-quickchart {\n",
              "      --bg-color: #3B4455;\n",
              "      --fill-color: #D2E3FC;\n",
              "      --hover-bg-color: #434B5C;\n",
              "      --hover-fill-color: #FFFFFF;\n",
              "      --disabled-bg-color: #3B4455;\n",
              "      --disabled-fill-color: #666;\n",
              "  }\n",
              "\n",
              "  .colab-df-quickchart {\n",
              "    background-color: var(--bg-color);\n",
              "    border: none;\n",
              "    border-radius: 50%;\n",
              "    cursor: pointer;\n",
              "    display: none;\n",
              "    fill: var(--fill-color);\n",
              "    height: 32px;\n",
              "    padding: 0;\n",
              "    width: 32px;\n",
              "  }\n",
              "\n",
              "  .colab-df-quickchart:hover {\n",
              "    background-color: var(--hover-bg-color);\n",
              "    box-shadow: 0 1px 2px rgba(60, 64, 67, 0.3), 0 1px 3px 1px rgba(60, 64, 67, 0.15);\n",
              "    fill: var(--button-hover-fill-color);\n",
              "  }\n",
              "\n",
              "  .colab-df-quickchart-complete:disabled,\n",
              "  .colab-df-quickchart-complete:disabled:hover {\n",
              "    background-color: var(--disabled-bg-color);\n",
              "    fill: var(--disabled-fill-color);\n",
              "    box-shadow: none;\n",
              "  }\n",
              "\n",
              "  .colab-df-spinner {\n",
              "    border: 2px solid var(--fill-color);\n",
              "    border-color: transparent;\n",
              "    border-bottom-color: var(--fill-color);\n",
              "    animation:\n",
              "      spin 1s steps(1) infinite;\n",
              "  }\n",
              "\n",
              "  @keyframes spin {\n",
              "    0% {\n",
              "      border-color: transparent;\n",
              "      border-bottom-color: var(--fill-color);\n",
              "      border-left-color: var(--fill-color);\n",
              "    }\n",
              "    20% {\n",
              "      border-color: transparent;\n",
              "      border-left-color: var(--fill-color);\n",
              "      border-top-color: var(--fill-color);\n",
              "    }\n",
              "    30% {\n",
              "      border-color: transparent;\n",
              "      border-left-color: var(--fill-color);\n",
              "      border-top-color: var(--fill-color);\n",
              "      border-right-color: var(--fill-color);\n",
              "    }\n",
              "    40% {\n",
              "      border-color: transparent;\n",
              "      border-right-color: var(--fill-color);\n",
              "      border-top-color: var(--fill-color);\n",
              "    }\n",
              "    60% {\n",
              "      border-color: transparent;\n",
              "      border-right-color: var(--fill-color);\n",
              "    }\n",
              "    80% {\n",
              "      border-color: transparent;\n",
              "      border-right-color: var(--fill-color);\n",
              "      border-bottom-color: var(--fill-color);\n",
              "    }\n",
              "    90% {\n",
              "      border-color: transparent;\n",
              "      border-bottom-color: var(--fill-color);\n",
              "    }\n",
              "  }\n",
              "</style>\n",
              "\n",
              "  <script>\n",
              "    async function quickchart(key) {\n",
              "      const quickchartButtonEl =\n",
              "        document.querySelector('#' + key + ' button');\n",
              "      quickchartButtonEl.disabled = true;  // To prevent multiple clicks.\n",
              "      quickchartButtonEl.classList.add('colab-df-spinner');\n",
              "      try {\n",
              "        const charts = await google.colab.kernel.invokeFunction(\n",
              "            'suggestCharts', [key], {});\n",
              "      } catch (error) {\n",
              "        console.error('Error during call to suggestCharts:', error);\n",
              "      }\n",
              "      quickchartButtonEl.classList.remove('colab-df-spinner');\n",
              "      quickchartButtonEl.classList.add('colab-df-quickchart-complete');\n",
              "    }\n",
              "    (() => {\n",
              "      let quickchartButtonEl =\n",
              "        document.querySelector('#df-27e593e1-6925-4d19-89a4-ea1d3c8aabcb button');\n",
              "      quickchartButtonEl.style.display =\n",
              "        google.colab.kernel.accessAllowed ? 'block' : 'none';\n",
              "    })();\n",
              "  </script>\n",
              "</div>\n",
              "\n",
              "    </div>\n",
              "  </div>\n"
            ],
            "application/vnd.google.colaboratory.intrinsic+json": {
              "type": "dataframe",
              "variable_name": "data",
              "summary": "{\n  \"name\": \"data\",\n  \"rows\": 55864,\n  \"fields\": [\n    {\n      \"column\": \"title\",\n      \"properties\": {\n        \"dtype\": \"string\",\n        \"num_unique_values\": 37339,\n        \"samples\": [\n          \"NormalTanks    \",\n          \"Age of Zombies    \",\n          \"Close Up Movies    \"\n        ],\n        \"semantic_type\": \"\",\n        \"description\": \"\"\n      }\n    },\n    {\n      \"column\": \"user_Score\",\n      \"properties\": {\n        \"dtype\": \"category\",\n        \"num_unique_values\": 51,\n        \"samples\": [\n          \"2.5\",\n          \"2\",\n          \"3\"\n        ],\n        \"semantic_type\": \"\",\n        \"description\": \"\"\n      }\n    },\n    {\n      \"column\": \"release_Date\",\n      \"properties\": {\n        \"dtype\": \"category\",\n        \"num_unique_values\": 7265,\n        \"samples\": [\n          \"20th Sep 05  \",\n          \"18th Apr 99  \",\n          \"26th Dec 90  \"\n        ],\n        \"semantic_type\": \"\",\n        \"description\": \"\"\n      }\n    },\n    {\n      \"column\": \"console\",\n      \"properties\": {\n        \"dtype\": \"category\",\n        \"num_unique_values\": 74,\n        \"samples\": [\n          \"DS\",\n          \"WinP\",\n          \"XB\"\n        ],\n        \"semantic_type\": \"\",\n        \"description\": \"\"\n      }\n    },\n    {\n      \"column\": \"url\",\n      \"properties\": {\n        \"dtype\": \"string\",\n        \"num_unique_values\": 55864,\n        \"samples\": [\n          \"http://www.vgchartz.com/game/17014/world-in-conflict-soviet-assault/?region=All\",\n          \"http://www.vgchartz.com/game/71651/germinator/?region=All\",\n          \"http://www.vgchartz.com/game/82064/gotuizz/?region=All\"\n        ],\n        \"semantic_type\": \"\",\n        \"description\": \"\"\n      }\n    },\n    {\n      \"column\": \"publisher\",\n      \"properties\": {\n        \"dtype\": \"category\",\n        \"num_unique_values\": 3147,\n        \"samples\": [\n          \"Sergej110  \",\n          \"Interchannel-Holon    \",\n          \"Romstar  \"\n        ],\n        \"semantic_type\": \"\",\n        \"description\": \"\"\n      }\n    },\n    {\n      \"column\": \"developer\",\n      \"properties\": {\n        \"dtype\": \"category\",\n        \"num_unique_values\": 8118,\n        \"samples\": [\n          \"CCR Inc  \",\n          \"Swampopus  \",\n          \"Gaming Minds Studios  \"\n        ],\n        \"semantic_type\": \"\",\n        \"description\": \"\"\n      }\n    },\n    {\n      \"column\": \"tot_ship\",\n      \"properties\": {\n        \"dtype\": \"category\",\n        \"num_unique_values\": 447,\n        \"samples\": [\n          \"1.83m\",\n          \"0.75m\",\n          \"5.34m\"\n        ],\n        \"semantic_type\": \"\",\n        \"description\": \"\"\n      }\n    },\n    {\n      \"column\": \"tot_sale\",\n      \"properties\": {\n        \"dtype\": \"category\",\n        \"num_unique_values\": 510,\n        \"samples\": [\n          \"0.29m\",\n          \"0.60m\",\n          \"0.34m\"\n        ],\n        \"semantic_type\": \"\",\n        \"description\": \"\"\n      }\n    },\n    {\n      \"column\": \"na_sale\",\n      \"properties\": {\n        \"dtype\": \"category\",\n        \"num_unique_values\": 336,\n        \"samples\": [\n          \"2.54m\",\n          \"2.29m\",\n          \"0.25m\"\n        ],\n        \"semantic_type\": \"\",\n        \"description\": \"\"\n      }\n    },\n    {\n      \"column\": \"pal_sale\",\n      \"properties\": {\n        \"dtype\": \"category\",\n        \"num_unique_values\": 267,\n        \"samples\": [\n          \"1.42m\",\n          \"2.62m\",\n          \"0.97m\"\n        ],\n        \"semantic_type\": \"\",\n        \"description\": \"\"\n      }\n    },\n    {\n      \"column\": \"jp_sale\",\n      \"properties\": {\n        \"dtype\": \"category\",\n        \"num_unique_values\": 131,\n        \"samples\": [\n          \"0.90m\",\n          \"0.87m\",\n          \"0.44m\"\n        ],\n        \"semantic_type\": \"\",\n        \"description\": \"\"\n      }\n    },\n    {\n      \"column\": \"other_sale\",\n      \"properties\": {\n        \"dtype\": \"category\",\n        \"num_unique_values\": 138,\n        \"samples\": [\n          \"0.41m\",\n          \"0.40m\",\n          \"1.54m\"\n        ],\n        \"semantic_type\": \"\",\n        \"description\": \"\"\n      }\n    },\n    {\n      \"column\": \"last_update\",\n      \"properties\": {\n        \"dtype\": \"date\",\n        \"min\": \"2017-11-28 00:00:00\",\n        \"max\": \"2019-04-28 00:00:00\",\n        \"num_unique_values\": 445,\n        \"samples\": [\n          \"23rd Feb 19\",\n          \"28th Apr 18\",\n          \"05th Jun 18\"\n        ],\n        \"semantic_type\": \"\",\n        \"description\": \"\"\n      }\n    },\n    {\n      \"column\": \"VGscore\",\n      \"properties\": {\n        \"dtype\": \"category\",\n        \"num_unique_values\": 62,\n        \"samples\": [\n          \"3.2\",\n          \"4.2\",\n          \"N/A  \"\n        ],\n        \"semantic_type\": \"\",\n        \"description\": \"\"\n      }\n    }\n  ]\n}"
            }
          },
          "metadata": {},
          "execution_count": 37
        }
      ],
      "source": [
        "data = pd.read_csv('/content/drive/MyDrive/IT7103/vgscore.csv')\n",
        "data.head()"
      ]
    },
    {
      "cell_type": "markdown",
      "id": "307b7694",
      "metadata": {
        "id": "307b7694"
      },
      "source": []
    },
    {
      "cell_type": "code",
      "execution_count": 38,
      "id": "2d7a4953",
      "metadata": {
        "scrolled": true,
        "colab": {
          "base_uri": "https://localhost:8080/"
        },
        "id": "2d7a4953",
        "outputId": "1c3176b0-e9e5-48ec-c76d-a9d0e5e0fa97"
      },
      "outputs": [
        {
          "output_type": "stream",
          "name": "stdout",
          "text": [
            "<class 'pandas.core.frame.DataFrame'>\n",
            "RangeIndex: 55864 entries, 0 to 55863\n",
            "Data columns (total 15 columns):\n",
            " #   Column        Non-Null Count  Dtype \n",
            "---  ------        --------------  ----- \n",
            " 0   title         55864 non-null  object\n",
            " 1   user_Score    55864 non-null  object\n",
            " 2   release_Date  55864 non-null  object\n",
            " 3   console       55864 non-null  object\n",
            " 4   url           55864 non-null  object\n",
            " 5   publisher     55864 non-null  object\n",
            " 6   developer     55864 non-null  object\n",
            " 7   tot_ship      1966 non-null   object\n",
            " 8   tot_sale      19409 non-null  object\n",
            " 9   na_sale       12961 non-null  object\n",
            " 10  pal_sale      13186 non-null  object\n",
            " 11  jp_sale       7041 non-null   object\n",
            " 12  other_sale    15518 non-null  object\n",
            " 13  last_update   9427 non-null   object\n",
            " 14  VGscore       55864 non-null  object\n",
            "dtypes: object(15)\n",
            "memory usage: 6.4+ MB\n"
          ]
        }
      ],
      "source": [
        "data.info()"
      ]
    },
    {
      "cell_type": "markdown",
      "id": "f9fc8ad9",
      "metadata": {
        "id": "f9fc8ad9"
      },
      "source": []
    },
    {
      "cell_type": "markdown",
      "source": [
        "# Train-Test Split\n",
        "\n",
        "The next step is to split the data into training and testing"
      ],
      "metadata": {
        "id": "06DGXYizzRzk"
      },
      "id": "06DGXYizzRzk"
    },
    {
      "cell_type": "code",
      "source": [
        "from sklearn.model_selection import train_test_split\n",
        "\n",
        "traindata, testdata = train_test_split(data, test_size=0.2) #test_size=0.2 means that 20% of data will be for testing, 80% for training\n",
        "traindata.shape, testdata.shape"
      ],
      "metadata": {
        "colab": {
          "base_uri": "https://localhost:8080/"
        },
        "id": "ZQLCRso3zQ52",
        "outputId": "9d204697-c2f4-4582-c4ca-17213effa596"
      },
      "id": "ZQLCRso3zQ52",
      "execution_count": 39,
      "outputs": [
        {
          "output_type": "execute_result",
          "data": {
            "text/plain": [
              "((44691, 15), (11173, 15))"
            ]
          },
          "metadata": {},
          "execution_count": 39
        }
      ]
    },
    {
      "cell_type": "code",
      "source": [
        "from sklearn.datasets import load_iris\n",
        "\n",
        "#Iris is available from the sklearn package\n",
        "iris = load_iris()\n",
        "X, y = iris.data, iris.target"
      ],
      "metadata": {
        "id": "pDO5xrzeyOEL"
      },
      "id": "pDO5xrzeyOEL",
      "execution_count": 40,
      "outputs": []
    },
    {
      "cell_type": "code",
      "execution_count": 41,
      "metadata": {
        "colab": {
          "base_uri": "https://localhost:8080/"
        },
        "id": "dngCjA2pAnl1",
        "outputId": "c32db4d3-3123-46e8-dd61-d02bb17e35cf"
      },
      "outputs": [
        {
          "output_type": "execute_result",
          "data": {
            "text/plain": [
              "array([[5.1, 3.5, 1.4, 0.2],\n",
              "       [4.9, 3. , 1.4, 0.2],\n",
              "       [4.7, 3.2, 1.3, 0.2],\n",
              "       [4.6, 3.1, 1.5, 0.2],\n",
              "       [5. , 3.6, 1.4, 0.2],\n",
              "       [5.4, 3.9, 1.7, 0.4],\n",
              "       [4.6, 3.4, 1.4, 0.3],\n",
              "       [5. , 3.4, 1.5, 0.2],\n",
              "       [4.4, 2.9, 1.4, 0.2],\n",
              "       [4.9, 3.1, 1.5, 0.1],\n",
              "       [5.4, 3.7, 1.5, 0.2],\n",
              "       [4.8, 3.4, 1.6, 0.2],\n",
              "       [4.8, 3. , 1.4, 0.1],\n",
              "       [4.3, 3. , 1.1, 0.1],\n",
              "       [5.8, 4. , 1.2, 0.2],\n",
              "       [5.7, 4.4, 1.5, 0.4],\n",
              "       [5.4, 3.9, 1.3, 0.4],\n",
              "       [5.1, 3.5, 1.4, 0.3],\n",
              "       [5.7, 3.8, 1.7, 0.3],\n",
              "       [5.1, 3.8, 1.5, 0.3],\n",
              "       [5.4, 3.4, 1.7, 0.2],\n",
              "       [5.1, 3.7, 1.5, 0.4],\n",
              "       [4.6, 3.6, 1. , 0.2],\n",
              "       [5.1, 3.3, 1.7, 0.5],\n",
              "       [4.8, 3.4, 1.9, 0.2],\n",
              "       [5. , 3. , 1.6, 0.2],\n",
              "       [5. , 3.4, 1.6, 0.4],\n",
              "       [5.2, 3.5, 1.5, 0.2],\n",
              "       [5.2, 3.4, 1.4, 0.2],\n",
              "       [4.7, 3.2, 1.6, 0.2],\n",
              "       [4.8, 3.1, 1.6, 0.2],\n",
              "       [5.4, 3.4, 1.5, 0.4],\n",
              "       [5.2, 4.1, 1.5, 0.1],\n",
              "       [5.5, 4.2, 1.4, 0.2],\n",
              "       [4.9, 3.1, 1.5, 0.2],\n",
              "       [5. , 3.2, 1.2, 0.2],\n",
              "       [5.5, 3.5, 1.3, 0.2],\n",
              "       [4.9, 3.6, 1.4, 0.1],\n",
              "       [4.4, 3. , 1.3, 0.2],\n",
              "       [5.1, 3.4, 1.5, 0.2],\n",
              "       [5. , 3.5, 1.3, 0.3],\n",
              "       [4.5, 2.3, 1.3, 0.3],\n",
              "       [4.4, 3.2, 1.3, 0.2],\n",
              "       [5. , 3.5, 1.6, 0.6],\n",
              "       [5.1, 3.8, 1.9, 0.4],\n",
              "       [4.8, 3. , 1.4, 0.3],\n",
              "       [5.1, 3.8, 1.6, 0.2],\n",
              "       [4.6, 3.2, 1.4, 0.2],\n",
              "       [5.3, 3.7, 1.5, 0.2],\n",
              "       [5. , 3.3, 1.4, 0.2],\n",
              "       [7. , 3.2, 4.7, 1.4],\n",
              "       [6.4, 3.2, 4.5, 1.5],\n",
              "       [6.9, 3.1, 4.9, 1.5],\n",
              "       [5.5, 2.3, 4. , 1.3],\n",
              "       [6.5, 2.8, 4.6, 1.5],\n",
              "       [5.7, 2.8, 4.5, 1.3],\n",
              "       [6.3, 3.3, 4.7, 1.6],\n",
              "       [4.9, 2.4, 3.3, 1. ],\n",
              "       [6.6, 2.9, 4.6, 1.3],\n",
              "       [5.2, 2.7, 3.9, 1.4],\n",
              "       [5. , 2. , 3.5, 1. ],\n",
              "       [5.9, 3. , 4.2, 1.5],\n",
              "       [6. , 2.2, 4. , 1. ],\n",
              "       [6.1, 2.9, 4.7, 1.4],\n",
              "       [5.6, 2.9, 3.6, 1.3],\n",
              "       [6.7, 3.1, 4.4, 1.4],\n",
              "       [5.6, 3. , 4.5, 1.5],\n",
              "       [5.8, 2.7, 4.1, 1. ],\n",
              "       [6.2, 2.2, 4.5, 1.5],\n",
              "       [5.6, 2.5, 3.9, 1.1],\n",
              "       [5.9, 3.2, 4.8, 1.8],\n",
              "       [6.1, 2.8, 4. , 1.3],\n",
              "       [6.3, 2.5, 4.9, 1.5],\n",
              "       [6.1, 2.8, 4.7, 1.2],\n",
              "       [6.4, 2.9, 4.3, 1.3],\n",
              "       [6.6, 3. , 4.4, 1.4],\n",
              "       [6.8, 2.8, 4.8, 1.4],\n",
              "       [6.7, 3. , 5. , 1.7],\n",
              "       [6. , 2.9, 4.5, 1.5],\n",
              "       [5.7, 2.6, 3.5, 1. ],\n",
              "       [5.5, 2.4, 3.8, 1.1],\n",
              "       [5.5, 2.4, 3.7, 1. ],\n",
              "       [5.8, 2.7, 3.9, 1.2],\n",
              "       [6. , 2.7, 5.1, 1.6],\n",
              "       [5.4, 3. , 4.5, 1.5],\n",
              "       [6. , 3.4, 4.5, 1.6],\n",
              "       [6.7, 3.1, 4.7, 1.5],\n",
              "       [6.3, 2.3, 4.4, 1.3],\n",
              "       [5.6, 3. , 4.1, 1.3],\n",
              "       [5.5, 2.5, 4. , 1.3],\n",
              "       [5.5, 2.6, 4.4, 1.2],\n",
              "       [6.1, 3. , 4.6, 1.4],\n",
              "       [5.8, 2.6, 4. , 1.2],\n",
              "       [5. , 2.3, 3.3, 1. ],\n",
              "       [5.6, 2.7, 4.2, 1.3],\n",
              "       [5.7, 3. , 4.2, 1.2],\n",
              "       [5.7, 2.9, 4.2, 1.3],\n",
              "       [6.2, 2.9, 4.3, 1.3],\n",
              "       [5.1, 2.5, 3. , 1.1],\n",
              "       [5.7, 2.8, 4.1, 1.3],\n",
              "       [6.3, 3.3, 6. , 2.5],\n",
              "       [5.8, 2.7, 5.1, 1.9],\n",
              "       [7.1, 3. , 5.9, 2.1],\n",
              "       [6.3, 2.9, 5.6, 1.8],\n",
              "       [6.5, 3. , 5.8, 2.2],\n",
              "       [7.6, 3. , 6.6, 2.1],\n",
              "       [4.9, 2.5, 4.5, 1.7],\n",
              "       [7.3, 2.9, 6.3, 1.8],\n",
              "       [6.7, 2.5, 5.8, 1.8],\n",
              "       [7.2, 3.6, 6.1, 2.5],\n",
              "       [6.5, 3.2, 5.1, 2. ],\n",
              "       [6.4, 2.7, 5.3, 1.9],\n",
              "       [6.8, 3. , 5.5, 2.1],\n",
              "       [5.7, 2.5, 5. , 2. ],\n",
              "       [5.8, 2.8, 5.1, 2.4],\n",
              "       [6.4, 3.2, 5.3, 2.3],\n",
              "       [6.5, 3. , 5.5, 1.8],\n",
              "       [7.7, 3.8, 6.7, 2.2],\n",
              "       [7.7, 2.6, 6.9, 2.3],\n",
              "       [6. , 2.2, 5. , 1.5],\n",
              "       [6.9, 3.2, 5.7, 2.3],\n",
              "       [5.6, 2.8, 4.9, 2. ],\n",
              "       [7.7, 2.8, 6.7, 2. ],\n",
              "       [6.3, 2.7, 4.9, 1.8],\n",
              "       [6.7, 3.3, 5.7, 2.1],\n",
              "       [7.2, 3.2, 6. , 1.8],\n",
              "       [6.2, 2.8, 4.8, 1.8],\n",
              "       [6.1, 3. , 4.9, 1.8],\n",
              "       [6.4, 2.8, 5.6, 2.1],\n",
              "       [7.2, 3. , 5.8, 1.6],\n",
              "       [7.4, 2.8, 6.1, 1.9],\n",
              "       [7.9, 3.8, 6.4, 2. ],\n",
              "       [6.4, 2.8, 5.6, 2.2],\n",
              "       [6.3, 2.8, 5.1, 1.5],\n",
              "       [6.1, 2.6, 5.6, 1.4],\n",
              "       [7.7, 3. , 6.1, 2.3],\n",
              "       [6.3, 3.4, 5.6, 2.4],\n",
              "       [6.4, 3.1, 5.5, 1.8],\n",
              "       [6. , 3. , 4.8, 1.8],\n",
              "       [6.9, 3.1, 5.4, 2.1],\n",
              "       [6.7, 3.1, 5.6, 2.4],\n",
              "       [6.9, 3.1, 5.1, 2.3],\n",
              "       [5.8, 2.7, 5.1, 1.9],\n",
              "       [6.8, 3.2, 5.9, 2.3],\n",
              "       [6.7, 3.3, 5.7, 2.5],\n",
              "       [6.7, 3. , 5.2, 2.3],\n",
              "       [6.3, 2.5, 5. , 1.9],\n",
              "       [6.5, 3. , 5.2, 2. ],\n",
              "       [6.2, 3.4, 5.4, 2.3],\n",
              "       [5.9, 3. , 5.1, 1.8]])"
            ]
          },
          "metadata": {},
          "execution_count": 41
        }
      ],
      "source": [
        "X"
      ],
      "id": "dngCjA2pAnl1"
    },
    {
      "cell_type": "code",
      "execution_count": 42,
      "metadata": {
        "colab": {
          "base_uri": "https://localhost:8080/"
        },
        "id": "QkAP8fOUAnmC",
        "outputId": "ab917e3e-78b3-4acf-adaa-7af2ba72e8c4"
      },
      "outputs": [
        {
          "output_type": "execute_result",
          "data": {
            "text/plain": [
              "array([0, 0, 0, 0, 0, 0, 0, 0, 0, 0, 0, 0, 0, 0, 0, 0, 0, 0, 0, 0, 0, 0,\n",
              "       0, 0, 0, 0, 0, 0, 0, 0, 0, 0, 0, 0, 0, 0, 0, 0, 0, 0, 0, 0, 0, 0,\n",
              "       0, 0, 0, 0, 0, 0, 1, 1, 1, 1, 1, 1, 1, 1, 1, 1, 1, 1, 1, 1, 1, 1,\n",
              "       1, 1, 1, 1, 1, 1, 1, 1, 1, 1, 1, 1, 1, 1, 1, 1, 1, 1, 1, 1, 1, 1,\n",
              "       1, 1, 1, 1, 1, 1, 1, 1, 1, 1, 1, 1, 2, 2, 2, 2, 2, 2, 2, 2, 2, 2,\n",
              "       2, 2, 2, 2, 2, 2, 2, 2, 2, 2, 2, 2, 2, 2, 2, 2, 2, 2, 2, 2, 2, 2,\n",
              "       2, 2, 2, 2, 2, 2, 2, 2, 2, 2, 2, 2, 2, 2, 2, 2, 2, 2])"
            ]
          },
          "metadata": {},
          "execution_count": 42
        }
      ],
      "source": [
        "y"
      ],
      "id": "QkAP8fOUAnmC"
    },
    {
      "cell_type": "code",
      "source": [
        "#Import Module\n",
        "from sklearn.model_selection import train_test_split\n",
        "\n",
        "\n",
        "train_X, test_X, train_y, test_y = train_test_split(X, y,\n",
        "                                                    train_size=0.5,\n",
        "                                                    test_size=0.5,\n",
        "                                                    random_state=122)\n",
        "print(\"Labels for training and testing data\")\n",
        "print(train_y)\n",
        "print(test_y)"
      ],
      "metadata": {
        "colab": {
          "base_uri": "https://localhost:8080/"
        },
        "id": "Znheid0OzadI",
        "outputId": "fad2ea21-0cae-4d9e-e332-71fc259c5a95"
      },
      "id": "Znheid0OzadI",
      "execution_count": 43,
      "outputs": [
        {
          "output_type": "stream",
          "name": "stdout",
          "text": [
            "Labels for training and testing data\n",
            "[0 1 2 0 1 2 0 1 2 0 1 1 2 2 1 0 0 2 0 2 0 1 1 0 2 2 1 2 1 0 2 0 2 0 1 2 1\n",
            " 2 1 2 0 2 0 0 1 1 0 1 2 2 0 2 2 1 0 1 0 0 1 1 0 0 0 1 1 1 0 0 2 0 2 0 1 1\n",
            " 2]\n",
            "[0 2 1 1 2 0 1 0 2 1 2 2 0 2 0 2 2 1 1 1 2 1 1 0 2 1 0 0 1 2 0 1 1 1 2 0 2\n",
            " 1 2 0 2 0 2 0 1 1 0 1 2 0 0 2 1 1 2 0 1 0 0 1 2 0 2 1 2 2 0 1 2 0 0 2 1 2\n",
            " 2]\n"
          ]
        }
      ]
    },
    {
      "cell_type": "markdown",
      "id": "ae0396ca",
      "metadata": {
        "id": "ae0396ca"
      },
      "source": [
        "# Visualization\n",
        "\n",
        "## Histograms\n"
      ]
    },
    {
      "cell_type": "code",
      "execution_count": 50,
      "id": "c61dc03c",
      "metadata": {
        "colab": {
          "base_uri": "https://localhost:8080/"
        },
        "id": "c61dc03c",
        "outputId": "7f002695-61ea-4a48-ad4c-413c514ec4af"
      },
      "outputs": [
        {
          "output_type": "stream",
          "name": "stdout",
          "text": [
            "No numerical features found in the DataFrame.\n"
          ]
        }
      ],
      "source": [
        "import matplotlib.pyplot as plt\n",
        "\n",
        "# Select only numerical features for the histogram\n",
        "numerical_features = traindata.select_dtypes(include=['number'])\n",
        "\n",
        "# Check if numerical_features is empty\n",
        "if numerical_features.empty:\n",
        "    print(\"No numerical features found in the DataFrame.\")\n",
        "else:\n",
        "    numerical_features.hist(bins=50, figsize=(15, 10))\n",
        "    plt.show()"
      ]
    },
    {
      "cell_type": "markdown",
      "id": "6ec7b1cf",
      "metadata": {
        "id": "6ec7b1cf"
      },
      "source": []
    },
    {
      "cell_type": "code",
      "execution_count": 52,
      "id": "ca33388b",
      "metadata": {
        "id": "ca33388b"
      },
      "outputs": [],
      "source": [
        "cla = traindata['user_Score']"
      ]
    },
    {
      "cell_type": "code",
      "execution_count": 59,
      "id": "83d94bd1",
      "metadata": {
        "colab": {
          "base_uri": "https://localhost:8080/",
          "height": 430
        },
        "id": "83d94bd1",
        "outputId": "6fcf22c7-fefb-4d9e-a0e3-288749febf42"
      },
      "outputs": [
        {
          "output_type": "display_data",
          "data": {
            "text/plain": [
              "<Figure size 640x480 with 1 Axes>"
            ],
            "image/png": "[encoded data removed]"
          },
          "metadata": {}
        }
      ],
      "source": [
        "plt.hist(cla, bins=30\n",
        "        )\n",
        "plt.show()"
      ]
    },
    {
      "cell_type": "code",
      "execution_count": 62,
      "id": "59623eb5",
      "metadata": {
        "colab": {
          "base_uri": "https://localhost:8080/",
          "height": 430
        },
        "id": "59623eb5",
        "outputId": "471a32dd-88c4-40a3-9892-6a80e66cedab"
      },
      "outputs": [
        {
          "output_type": "display_data",
          "data": {
            "text/plain": [
              "<Figure size 640x480 with 1 Axes>"
            ],
            "image/png": "[encoded data removed]"
          },
          "metadata": {}
        }
      ],
      "source": [
        "# Convert 'user_Score' column to numeric, handling errors\n",
        "cla = pd.to_numeric(traindata['user_Score'], errors='coerce')\n",
        "\n",
        "# Now you can filter and create the histogram\n",
        "plt.hist(cla[cla < 90000000], bins=50)\n",
        "plt.show()"
      ]
    },
    {
      "cell_type": "code",
      "execution_count": 63,
      "id": "fab682b7",
      "metadata": {
        "colab": {
          "base_uri": "https://localhost:8080/",
          "height": 430
        },
        "id": "fab682b7",
        "outputId": "8adcdcf6-daeb-4e78-bb4e-c14789b100db"
      },
      "outputs": [
        {
          "output_type": "display_data",
          "data": {
            "text/plain": [
              "<Figure size 640x480 with 1 Axes>"
            ],
            "image/png": "[encoded data removed]"
          },
          "metadata": {}
        }
      ],
      "source": [
        "plt.hist(cla[cla>90000000], bins=50)\n",
        "plt.show()"
      ]
    },
    {
      "cell_type": "markdown",
      "id": "ad9a651e",
      "metadata": {
        "id": "ad9a651e"
      },
      "source": []
    },
    {
      "cell_type": "code",
      "execution_count": 64,
      "id": "26344b27",
      "metadata": {
        "colab": {
          "base_uri": "https://localhost:8080/",
          "height": 84
        },
        "id": "26344b27",
        "outputId": "e9bb5bca-98f8-469e-9005-1cd7b31b8441"
      },
      "outputs": [
        {
          "output_type": "execute_result",
          "data": {
            "text/plain": [
              "Series([], Name: user_Score, dtype: float64)"
            ],
            "text/html": [
              "<div>\n",
              "<style scoped>\n",
              "    .dataframe tbody tr th:only-of-type {\n",
              "        vertical-align: middle;\n",
              "    }\n",
              "\n",
              "    .dataframe tbody tr th {\n",
              "        vertical-align: top;\n",
              "    }\n",
              "\n",
              "    .dataframe thead th {\n",
              "        text-align: right;\n",
              "    }\n",
              "</style>\n",
              "<table border=\"1\" class=\"dataframe\">\n",
              "  <thead>\n",
              "    <tr style=\"text-align: right;\">\n",
              "      <th></th>\n",
              "      <th>user_Score</th>\n",
              "    </tr>\n",
              "  </thead>\n",
              "  <tbody>\n",
              "  </tbody>\n",
              "</table>\n",
              "</div><br><label><b>dtype:</b> float64</label>"
            ]
          },
          "metadata": {},
          "execution_count": 64
        }
      ],
      "source": [
        "cla[cla > 90000000]"
      ]
    },
    {
      "cell_type": "markdown",
      "id": "0b408b55",
      "metadata": {
        "id": "0b408b55"
      },
      "source": []
    },
    {
      "cell_type": "code",
      "execution_count": 66,
      "id": "fe3d3301",
      "metadata": {
        "colab": {
          "base_uri": "https://localhost:8080/",
          "height": 115
        },
        "id": "fe3d3301",
        "outputId": "10c70a4e-8d16-4c1f-b0d3-00725b6e4477"
      },
      "outputs": [
        {
          "output_type": "execute_result",
          "data": {
            "text/plain": [
              "Series([], Name: count, dtype: int64)"
            ],
            "text/html": [
              "<div>\n",
              "<style scoped>\n",
              "    .dataframe tbody tr th:only-of-type {\n",
              "        vertical-align: middle;\n",
              "    }\n",
              "\n",
              "    .dataframe tbody tr th {\n",
              "        vertical-align: top;\n",
              "    }\n",
              "\n",
              "    .dataframe thead th {\n",
              "        text-align: right;\n",
              "    }\n",
              "</style>\n",
              "<table border=\"1\" class=\"dataframe\">\n",
              "  <thead>\n",
              "    <tr style=\"text-align: right;\">\n",
              "      <th></th>\n",
              "      <th>count</th>\n",
              "    </tr>\n",
              "    <tr>\n",
              "      <th>user_Score</th>\n",
              "      <th></th>\n",
              "    </tr>\n",
              "  </thead>\n",
              "  <tbody>\n",
              "  </tbody>\n",
              "</table>\n",
              "</div><br><label><b>dtype:</b> int64</label>"
            ]
          },
          "metadata": {},
          "execution_count": 66
        }
      ],
      "source": [
        "traindata['user_Score'][cla > 90000000].value_counts()"
      ]
    },
    {
      "cell_type": "markdown",
      "id": "cf3aabd2",
      "metadata": {
        "id": "cf3aabd2"
      },
      "source": []
    },
    {
      "cell_type": "markdown",
      "id": "ff871188",
      "metadata": {
        "id": "ff871188"
      },
      "source": [
        "VGscore\n",
        "\n"
      ]
    },
    {
      "cell_type": "code",
      "execution_count": 67,
      "id": "c526ade8",
      "metadata": {
        "colab": {
          "base_uri": "https://localhost:8080/",
          "height": 430
        },
        "id": "c526ade8",
        "outputId": "774889b9-fd53-4057-ef1d-116d51a7f29c"
      },
      "outputs": [
        {
          "output_type": "display_data",
          "data": {
            "text/plain": [
              "<Figure size 640x480 with 1 Axes>"
            ],
            "image/png": "[encoded data removed]"
          },
          "metadata": {}
        }
      ],
      "source": [
        "cs = traindata['VGscore']\n",
        "plt.hist(cs, bins=100)\n",
        "plt.show()"
      ]
    },
    {
      "cell_type": "code",
      "execution_count": 72,
      "id": "36ce0a7e",
      "metadata": {
        "colab": {
          "base_uri": "https://localhost:8080/",
          "height": 430
        },
        "id": "36ce0a7e",
        "outputId": "3cc628f7-766b-4f12-8046-afa8cfe9e2a3"
      },
      "outputs": [
        {
          "output_type": "display_data",
          "data": {
            "text/plain": [
              "<Figure size 640x480 with 1 Axes>"
            ],
            "image/png": "[encoded data removed]"
          },
          "metadata": {}
        }
      ],
      "source": [
        "# Convert 'cs' to numeric, handling errors\n",
        "cs = pd.to_numeric(cs, errors='coerce')\n",
        "\n",
        "# Filter and plot\n",
        "plt.hist(cs[cs < 1000], bins=50)\n",
        "plt.show()"
      ]
    },
    {
      "cell_type": "code",
      "execution_count": 71,
      "id": "3d818ba8",
      "metadata": {
        "colab": {
          "base_uri": "https://localhost:8080/",
          "height": 430
        },
        "id": "3d818ba8",
        "outputId": "a8bfbc15-41df-41cb-bc52-e18ab7321382"
      },
      "outputs": [
        {
          "output_type": "display_data",
          "data": {
            "text/plain": [
              "<Figure size 640x480 with 1 Axes>"
            ],
            "image/png": "[encoded data removed]"
          },
          "metadata": {}
        }
      ],
      "source": [
        "plt.hist(cs[cs>1000], bins=50)\n",
        "plt.show()"
      ]
    },
    {
      "cell_type": "markdown",
      "id": "57e5e576",
      "metadata": {
        "id": "57e5e576"
      },
      "source": []
    },
    {
      "cell_type": "markdown",
      "id": "dcdc1c76",
      "metadata": {
        "id": "dcdc1c76"
      },
      "source": [
        "### Total Sale\n",
        "\n"
      ]
    },
    {
      "cell_type": "code",
      "execution_count": 73,
      "id": "4a990840",
      "metadata": {
        "id": "4a990840"
      },
      "outputs": [],
      "source": [
        "ai = traindata['tot_sale']"
      ]
    },
    {
      "cell_type": "code",
      "execution_count": 78,
      "id": "4c99e15e",
      "metadata": {
        "colab": {
          "base_uri": "https://localhost:8080/",
          "height": 430
        },
        "id": "4c99e15e",
        "outputId": "87266efb-124d-4068-f8fb-eef1c5701193"
      },
      "outputs": [
        {
          "output_type": "display_data",
          "data": {
            "text/plain": [
              "<Figure size 640x480 with 1 Axes>"
            ],
            "image/png": "[encoded data removed]"
          },
          "metadata": {}
        }
      ],
      "source": [
        "# Convert 'tot_sale' column to numeric, handling errors\n",
        "ai = pd.to_numeric(traindata['tot_sale'], errors='coerce')\n",
        "\n",
        "# Now you can filter and create the histogram\n",
        "# Drop NaN values before creating the histogram\n",
        "plt.hist(ai.dropna(), bins=50)\n",
        "plt.show()"
      ]
    },
    {
      "cell_type": "code",
      "execution_count": 79,
      "id": "5917591c",
      "metadata": {
        "scrolled": true,
        "colab": {
          "base_uri": "https://localhost:8080/",
          "height": 430
        },
        "id": "5917591c",
        "outputId": "6dfb9252-cb57-4913-818b-0d767b852f3e"
      },
      "outputs": [
        {
          "output_type": "display_data",
          "data": {
            "text/plain": [
              "<Figure size 640x480 with 1 Axes>"
            ],
            "image/png": "[encoded data removed]"
          },
          "metadata": {}
        }
      ],
      "source": [
        "plt.hist(ai[ai < 10000000], bins=50)\n",
        "plt.show()"
      ]
    },
    {
      "cell_type": "code",
      "execution_count": 80,
      "id": "3abce3b1",
      "metadata": {
        "colab": {
          "base_uri": "https://localhost:8080/",
          "height": 84
        },
        "id": "3abce3b1",
        "outputId": "83540480-b634-4716-e65e-e67faf407ec7"
      },
      "outputs": [
        {
          "output_type": "execute_result",
          "data": {
            "text/plain": [
              "Series([], Name: tot_sale, dtype: float64)"
            ],
            "text/html": [
              "<div>\n",
              "<style scoped>\n",
              "    .dataframe tbody tr th:only-of-type {\n",
              "        vertical-align: middle;\n",
              "    }\n",
              "\n",
              "    .dataframe tbody tr th {\n",
              "        vertical-align: top;\n",
              "    }\n",
              "\n",
              "    .dataframe thead th {\n",
              "        text-align: right;\n",
              "    }\n",
              "</style>\n",
              "<table border=\"1\" class=\"dataframe\">\n",
              "  <thead>\n",
              "    <tr style=\"text-align: right;\">\n",
              "      <th></th>\n",
              "      <th>tot_sale</th>\n",
              "    </tr>\n",
              "  </thead>\n",
              "  <tbody>\n",
              "  </tbody>\n",
              "</table>\n",
              "</div><br><label><b>dtype:</b> float64</label>"
            ]
          },
          "metadata": {},
          "execution_count": 80
        }
      ],
      "source": [
        "ai[ai > 10000000]"
      ]
    },
    {
      "cell_type": "markdown",
      "id": "ab306e60",
      "metadata": {
        "id": "ab306e60"
      },
      "source": []
    },
    {
      "cell_type": "code",
      "execution_count": 82,
      "id": "c9feb9ff",
      "metadata": {
        "colab": {
          "base_uri": "https://localhost:8080/",
          "height": 843
        },
        "id": "c9feb9ff",
        "outputId": "323f4316-f205-42f1-acf3-8e508cc718c2"
      },
      "outputs": [
        {
          "output_type": "display_data",
          "data": {
            "text/plain": [
              "<Figure size 640x480 with 1 Axes>"
            ],
            "image/png": "[encoded data removed]"
          },
          "metadata": {}
        },
        {
          "output_type": "display_data",
          "data": {
            "text/plain": [
              "<Figure size 640x480 with 1 Axes>"
            ],
            "image/png": "[encoded data removed]"
          },
          "metadata": {}
        }
      ],
      "source": [
        "# Convert 'tot_sale' column to numeric, handling errors\n",
        "ai = pd.to_numeric(traindata['tot_sale'], errors='coerce')\n",
        "\n",
        "# Now you can filter and create the histogram\n",
        "# Drop NaN values before creating the histogram\n",
        "plt.hist(ai.dropna(), bins=50)\n",
        "plt.show()\n",
        "\n",
        "# Filter out NaN values before applying log transformation\n",
        "ai_filtered = ai.dropna()\n",
        "\n",
        "# Apply log transformation to the filtered data\n",
        "plt.hist(np.log(ai_filtered[ai_filtered > 0]), bins=50)  # Add a condition to avoid log(0)\n",
        "plt.show()"
      ]
    },
    {
      "cell_type": "markdown",
      "id": "1fe34cc2",
      "metadata": {
        "id": "1fe34cc2"
      },
      "source": [
        "<h4>North America Sales</h4>"
      ]
    },
    {
      "cell_type": "code",
      "execution_count": 83,
      "id": "ef130898",
      "metadata": {
        "id": "ef130898"
      },
      "outputs": [],
      "source": [
        "mld = traindata['na_sale']"
      ]
    },
    {
      "cell_type": "code",
      "execution_count": 86,
      "id": "8e8d5658",
      "metadata": {
        "colab": {
          "base_uri": "https://localhost:8080/"
        },
        "id": "8e8d5658",
        "outputId": "57f6cf0a-2fc4-4228-b604-f500281b0ad8"
      },
      "outputs": [
        {
          "output_type": "stream",
          "name": "stdout",
          "text": [
            "No valid values found for 'na_sale' after dropping NaNs.\n"
          ]
        }
      ],
      "source": [
        "import matplotlib.pyplot as plt\n",
        "import pandas as pd\n",
        "mld = traindata['na_sale']\n",
        "\n",
        "# Convert 'mld' to numeric if it's not already\n",
        "mld = pd.to_numeric(mld, errors='coerce')\n",
        "\n",
        "# Drop NaN values before creating the histogram\n",
        "mld = mld.dropna()\n",
        "\n",
        "# Check if there are any valid values left after dropping NaNs\n",
        "if not mld.empty:\n",
        "    plt.hist(mld, bins=30)\n",
        "    plt.show()\n",
        "else:\n",
        "    print(\"No valid values found for 'na_sale' after dropping NaNs.\")"
      ]
    },
    {
      "cell_type": "code",
      "execution_count": null,
      "id": "b476602b",
      "metadata": {
        "colab": {
          "base_uri": "https://localhost:8080/"
        },
        "id": "b476602b",
        "outputId": "ca813d08-2e88-443b-9b6f-c66c97f6ca8f"
      },
      "outputs": [
        {
          "output_type": "execute_result",
          "data": {
            "text/plain": [
              "42559"
            ]
          },
          "metadata": {},
          "execution_count": 25
        }
      ],
      "source": [
        "mld.isna().sum()"
      ]
    },
    {
      "cell_type": "markdown",
      "id": "b58a79ca",
      "metadata": {
        "id": "b58a79ca"
      },
      "source": []
    },
    {
      "cell_type": "markdown",
      "id": "61441bba",
      "metadata": {
        "id": "61441bba"
      },
      "source": [
        "### user_score"
      ]
    },
    {
      "cell_type": "code",
      "execution_count": 88,
      "id": "b5d7bf79",
      "metadata": {
        "id": "b5d7bf79"
      },
      "outputs": [],
      "source": [
        "ccb = traindata['user_Score']"
      ]
    },
    {
      "cell_type": "code",
      "execution_count": null,
      "id": "e4cc0e89",
      "metadata": {
        "colab": {
          "base_uri": "https://localhost:8080/",
          "height": 448
        },
        "id": "e4cc0e89",
        "outputId": "60353db1-29fb-48ca-d944-21e5785b6742"
      },
      "outputs": [
        {
          "output_type": "display_data",
          "data": {
            "text/plain": [
              "<Figure size 640x480 with 1 Axes>"
            ],
            "image/png": "[encoded data removed]"
          },
          "metadata": {}
        }
      ],
      "source": [
        "plt.hist(ccb, bins=50)\n",
        "plt.show()"
      ]
    },
    {
      "cell_type": "code",
      "execution_count": 90,
      "id": "d7b6eac8",
      "metadata": {
        "colab": {
          "base_uri": "https://localhost:8080/",
          "height": 430
        },
        "id": "d7b6eac8",
        "outputId": "6a480f05-0ce8-4c90-b3f7-c9ba808c5909"
      },
      "outputs": [
        {
          "output_type": "display_data",
          "data": {
            "text/plain": [
              "<Figure size 640x480 with 1 Axes>"
            ],
            "image/png": "[encoded data removed]"
          },
          "metadata": {}
        }
      ],
      "source": [
        "# Convert 'user_Score' column to numeric, handling errors\n",
        "ccb = pd.to_numeric(traindata['user_Score'], errors='coerce')\n",
        "\n",
        "# Now you can filter and create the histogram\n",
        "plt.hist(ccb[ccb < 5000000], bins=50)\n",
        "plt.show()"
      ]
    },
    {
      "cell_type": "code",
      "execution_count": 91,
      "id": "1b9bb746",
      "metadata": {
        "id": "1b9bb746",
        "colab": {
          "base_uri": "https://localhost:8080/",
          "height": 84
        },
        "outputId": "d0b55892-4188-405f-ad84-5d6ea02ebc07"
      },
      "outputs": [
        {
          "output_type": "execute_result",
          "data": {
            "text/plain": [
              "Series([], Name: user_Score, dtype: float64)"
            ],
            "text/html": [
              "<div>\n",
              "<style scoped>\n",
              "    .dataframe tbody tr th:only-of-type {\n",
              "        vertical-align: middle;\n",
              "    }\n",
              "\n",
              "    .dataframe tbody tr th {\n",
              "        vertical-align: top;\n",
              "    }\n",
              "\n",
              "    .dataframe thead th {\n",
              "        text-align: right;\n",
              "    }\n",
              "</style>\n",
              "<table border=\"1\" class=\"dataframe\">\n",
              "  <thead>\n",
              "    <tr style=\"text-align: right;\">\n",
              "      <th></th>\n",
              "      <th>user_Score</th>\n",
              "    </tr>\n",
              "  </thead>\n",
              "  <tbody>\n",
              "  </tbody>\n",
              "</table>\n",
              "</div><br><label><b>dtype:</b> float64</label>"
            ]
          },
          "metadata": {},
          "execution_count": 91
        }
      ],
      "source": [
        "ccb[ccb > 5000000]"
      ]
    },
    {
      "cell_type": "markdown",
      "id": "d262faa6",
      "metadata": {
        "id": "d262faa6"
      },
      "source": [
        "Fairly similar to annual income with a very right skewed distribution. We will add a log version."
      ]
    },
    {
      "cell_type": "markdown",
      "id": "b1b88977",
      "metadata": {
        "id": "b1b88977"
      },
      "source": [
        "<h4>Total Shipping</h4>"
      ]
    },
    {
      "cell_type": "code",
      "execution_count": 92,
      "id": "9aa59c74",
      "metadata": {
        "id": "9aa59c74"
      },
      "outputs": [],
      "source": [
        "moc = traindata['tot_ship']"
      ]
    },
    {
      "cell_type": "code",
      "execution_count": 94,
      "id": "5ffe2a76",
      "metadata": {
        "colab": {
          "base_uri": "https://localhost:8080/"
        },
        "id": "5ffe2a76",
        "outputId": "eda20be5-b246-4ee4-90df-cc51105e7556"
      },
      "outputs": [
        {
          "output_type": "stream",
          "name": "stdout",
          "text": [
            "No valid values found for 'tot_ship' after dropping NaNs.\n"
          ]
        }
      ],
      "source": [
        "import matplotlib.pyplot as plt\n",
        "import pandas as pd\n",
        "\n",
        "moc = traindata['tot_ship']\n",
        "\n",
        "# Convert 'moc' to numeric if it's not already\n",
        "moc = pd.to_numeric(moc, errors='coerce')\n",
        "\n",
        "# Drop NaN values before creating the histogram\n",
        "moc = moc.dropna()\n",
        "\n",
        "# Check if there are any valid values left after dropping NaNs\n",
        "if not moc.empty:\n",
        "    plt.hist(moc, bins=50)\n",
        "    plt.show()\n",
        "else:\n",
        "    print(\"No valid values found for 'tot_ship' after dropping NaNs.\")"
      ]
    },
    {
      "cell_type": "code",
      "execution_count": 95,
      "id": "595439a6",
      "metadata": {
        "colab": {
          "base_uri": "https://localhost:8080/",
          "height": 430
        },
        "id": "595439a6",
        "outputId": "3fa34394-124f-4a26-d295-ca06715628d5"
      },
      "outputs": [
        {
          "output_type": "display_data",
          "data": {
            "text/plain": [
              "<Figure size 640x480 with 1 Axes>"
            ],
            "image/png": "[encoded data removed]"
          },
          "metadata": {}
        }
      ],
      "source": [
        "plt.hist(moc[moc < 10000000], bins=50)\n",
        "plt.show()"
      ]
    },
    {
      "cell_type": "code",
      "execution_count": 96,
      "id": "b00d48d7",
      "metadata": {
        "colab": {
          "base_uri": "https://localhost:8080/",
          "height": 84
        },
        "id": "b00d48d7",
        "outputId": "b830b0df-987c-43cf-8103-9799ef41b071"
      },
      "outputs": [
        {
          "output_type": "execute_result",
          "data": {
            "text/plain": [
              "Series([], Name: tot_ship, dtype: float64)"
            ],
            "text/html": [
              "<div>\n",
              "<style scoped>\n",
              "    .dataframe tbody tr th:only-of-type {\n",
              "        vertical-align: middle;\n",
              "    }\n",
              "\n",
              "    .dataframe tbody tr th {\n",
              "        vertical-align: top;\n",
              "    }\n",
              "\n",
              "    .dataframe thead th {\n",
              "        text-align: right;\n",
              "    }\n",
              "</style>\n",
              "<table border=\"1\" class=\"dataframe\">\n",
              "  <thead>\n",
              "    <tr style=\"text-align: right;\">\n",
              "      <th></th>\n",
              "      <th>tot_ship</th>\n",
              "    </tr>\n",
              "  </thead>\n",
              "  <tbody>\n",
              "  </tbody>\n",
              "</table>\n",
              "</div><br><label><b>dtype:</b> float64</label>"
            ]
          },
          "metadata": {},
          "execution_count": 96
        }
      ],
      "source": [
        "moc[moc > 10000000]"
      ]
    },
    {
      "cell_type": "markdown",
      "id": "10afda69",
      "metadata": {
        "id": "10afda69"
      },
      "source": []
    },
    {
      "cell_type": "markdown",
      "id": "b390b1d4",
      "metadata": {
        "id": "b390b1d4"
      },
      "source": [
        "<h4>Total Sale</h4>"
      ]
    },
    {
      "cell_type": "code",
      "execution_count": 97,
      "id": "890ad2ea",
      "metadata": {
        "colab": {
          "base_uri": "https://localhost:8080/",
          "height": 490
        },
        "id": "890ad2ea",
        "outputId": "d625d788-a510-4e2e-d9ca-7a60eded97d8"
      },
      "outputs": [
        {
          "output_type": "execute_result",
          "data": {
            "text/plain": [
              "tot_sale\n",
              "0.01m    1125\n",
              "0.00m    1094\n",
              "0.02m     980\n",
              "0.03m     775\n",
              "0.04m     604\n",
              "         ... \n",
              "5.42m       1\n",
              "4.57m       1\n",
              "3.40m       1\n",
              "4.41m       1\n",
              "4.32m       1\n",
              "Name: count, Length: 468, dtype: int64"
            ],
            "text/html": [
              "<div>\n",
              "<style scoped>\n",
              "    .dataframe tbody tr th:only-of-type {\n",
              "        vertical-align: middle;\n",
              "    }\n",
              "\n",
              "    .dataframe tbody tr th {\n",
              "        vertical-align: top;\n",
              "    }\n",
              "\n",
              "    .dataframe thead th {\n",
              "        text-align: right;\n",
              "    }\n",
              "</style>\n",
              "<table border=\"1\" class=\"dataframe\">\n",
              "  <thead>\n",
              "    <tr style=\"text-align: right;\">\n",
              "      <th></th>\n",
              "      <th>count</th>\n",
              "    </tr>\n",
              "    <tr>\n",
              "      <th>tot_sale</th>\n",
              "      <th></th>\n",
              "    </tr>\n",
              "  </thead>\n",
              "  <tbody>\n",
              "    <tr>\n",
              "      <th>0.01m</th>\n",
              "      <td>1125</td>\n",
              "    </tr>\n",
              "    <tr>\n",
              "      <th>0.00m</th>\n",
              "      <td>1094</td>\n",
              "    </tr>\n",
              "    <tr>\n",
              "      <th>0.02m</th>\n",
              "      <td>980</td>\n",
              "    </tr>\n",
              "    <tr>\n",
              "      <th>0.03m</th>\n",
              "      <td>775</td>\n",
              "    </tr>\n",
              "    <tr>\n",
              "      <th>0.04m</th>\n",
              "      <td>604</td>\n",
              "    </tr>\n",
              "    <tr>\n",
              "      <th>...</th>\n",
              "      <td>...</td>\n",
              "    </tr>\n",
              "    <tr>\n",
              "      <th>5.42m</th>\n",
              "      <td>1</td>\n",
              "    </tr>\n",
              "    <tr>\n",
              "      <th>4.57m</th>\n",
              "      <td>1</td>\n",
              "    </tr>\n",
              "    <tr>\n",
              "      <th>3.40m</th>\n",
              "      <td>1</td>\n",
              "    </tr>\n",
              "    <tr>\n",
              "      <th>4.41m</th>\n",
              "      <td>1</td>\n",
              "    </tr>\n",
              "    <tr>\n",
              "      <th>4.32m</th>\n",
              "      <td>1</td>\n",
              "    </tr>\n",
              "  </tbody>\n",
              "</table>\n",
              "<p>468 rows × 1 columns</p>\n",
              "</div><br><label><b>dtype:</b> int64</label>"
            ]
          },
          "metadata": {},
          "execution_count": 97
        }
      ],
      "source": [
        "traindata['tot_sale'].value_counts()"
      ]
    },
    {
      "cell_type": "markdown",
      "id": "32d2babe",
      "metadata": {
        "id": "32d2babe"
      },
      "source": [
        "<h4>Other Sale</h4>"
      ]
    },
    {
      "cell_type": "code",
      "execution_count": 98,
      "id": "57f8334d",
      "metadata": {
        "colab": {
          "base_uri": "https://localhost:8080/",
          "height": 490
        },
        "id": "57f8334d",
        "outputId": "9ce72b41-dfc1-4c43-c046-800b4172e17a"
      },
      "outputs": [
        {
          "output_type": "execute_result",
          "data": {
            "text/plain": [
              "other_sale\n",
              "0.00m    4186\n",
              "0.01m    2925\n",
              "0.02m    1388\n",
              "0.03m     757\n",
              "0.04m     515\n",
              "         ... \n",
              "2.46m       1\n",
              "1.54m       1\n",
              "0.70m       1\n",
              "0.91m       1\n",
              "0.58m       1\n",
              "Name: count, Length: 122, dtype: int64"
            ],
            "text/html": [
              "<div>\n",
              "<style scoped>\n",
              "    .dataframe tbody tr th:only-of-type {\n",
              "        vertical-align: middle;\n",
              "    }\n",
              "\n",
              "    .dataframe tbody tr th {\n",
              "        vertical-align: top;\n",
              "    }\n",
              "\n",
              "    .dataframe thead th {\n",
              "        text-align: right;\n",
              "    }\n",
              "</style>\n",
              "<table border=\"1\" class=\"dataframe\">\n",
              "  <thead>\n",
              "    <tr style=\"text-align: right;\">\n",
              "      <th></th>\n",
              "      <th>count</th>\n",
              "    </tr>\n",
              "    <tr>\n",
              "      <th>other_sale</th>\n",
              "      <th></th>\n",
              "    </tr>\n",
              "  </thead>\n",
              "  <tbody>\n",
              "    <tr>\n",
              "      <th>0.00m</th>\n",
              "      <td>4186</td>\n",
              "    </tr>\n",
              "    <tr>\n",
              "      <th>0.01m</th>\n",
              "      <td>2925</td>\n",
              "    </tr>\n",
              "    <tr>\n",
              "      <th>0.02m</th>\n",
              "      <td>1388</td>\n",
              "    </tr>\n",
              "    <tr>\n",
              "      <th>0.03m</th>\n",
              "      <td>757</td>\n",
              "    </tr>\n",
              "    <tr>\n",
              "      <th>0.04m</th>\n",
              "      <td>515</td>\n",
              "    </tr>\n",
              "    <tr>\n",
              "      <th>...</th>\n",
              "      <td>...</td>\n",
              "    </tr>\n",
              "    <tr>\n",
              "      <th>2.46m</th>\n",
              "      <td>1</td>\n",
              "    </tr>\n",
              "    <tr>\n",
              "      <th>1.54m</th>\n",
              "      <td>1</td>\n",
              "    </tr>\n",
              "    <tr>\n",
              "      <th>0.70m</th>\n",
              "      <td>1</td>\n",
              "    </tr>\n",
              "    <tr>\n",
              "      <th>0.91m</th>\n",
              "      <td>1</td>\n",
              "    </tr>\n",
              "    <tr>\n",
              "      <th>0.58m</th>\n",
              "      <td>1</td>\n",
              "    </tr>\n",
              "  </tbody>\n",
              "</table>\n",
              "<p>122 rows × 1 columns</p>\n",
              "</div><br><label><b>dtype:</b> int64</label>"
            ]
          },
          "metadata": {},
          "execution_count": 98
        }
      ],
      "source": [
        "traindata['other_sale'].value_counts()"
      ]
    },
    {
      "cell_type": "markdown",
      "id": "8673b8a1",
      "metadata": {
        "id": "8673b8a1"
      },
      "source": [
        "<h4>VGscore</h4>"
      ]
    },
    {
      "cell_type": "code",
      "execution_count": 99,
      "id": "08aad548",
      "metadata": {
        "colab": {
          "base_uri": "https://localhost:8080/",
          "height": 490
        },
        "id": "08aad548",
        "outputId": "776a3d51-bf61-49bf-a617-84fe547fd7fb"
      },
      "outputs": [
        {
          "output_type": "execute_result",
          "data": {
            "text/plain": [
              "VGscore\n",
              "N/A      44049\n",
              "8           60\n",
              "6           59\n",
              "7           59\n",
              "9           31\n",
              "         ...  \n",
              "4.2          1\n",
              "9.6          1\n",
              "5.5          1\n",
              "4.8          1\n",
              "5.7          1\n",
              "Name: count, Length: 62, dtype: int64"
            ],
            "text/html": [
              "<div>\n",
              "<style scoped>\n",
              "    .dataframe tbody tr th:only-of-type {\n",
              "        vertical-align: middle;\n",
              "    }\n",
              "\n",
              "    .dataframe tbody tr th {\n",
              "        vertical-align: top;\n",
              "    }\n",
              "\n",
              "    .dataframe thead th {\n",
              "        text-align: right;\n",
              "    }\n",
              "</style>\n",
              "<table border=\"1\" class=\"dataframe\">\n",
              "  <thead>\n",
              "    <tr style=\"text-align: right;\">\n",
              "      <th></th>\n",
              "      <th>count</th>\n",
              "    </tr>\n",
              "    <tr>\n",
              "      <th>VGscore</th>\n",
              "      <th></th>\n",
              "    </tr>\n",
              "  </thead>\n",
              "  <tbody>\n",
              "    <tr>\n",
              "      <th>N/A</th>\n",
              "      <td>44049</td>\n",
              "    </tr>\n",
              "    <tr>\n",
              "      <th>8</th>\n",
              "      <td>60</td>\n",
              "    </tr>\n",
              "    <tr>\n",
              "      <th>6</th>\n",
              "      <td>59</td>\n",
              "    </tr>\n",
              "    <tr>\n",
              "      <th>7</th>\n",
              "      <td>59</td>\n",
              "    </tr>\n",
              "    <tr>\n",
              "      <th>9</th>\n",
              "      <td>31</td>\n",
              "    </tr>\n",
              "    <tr>\n",
              "      <th>...</th>\n",
              "      <td>...</td>\n",
              "    </tr>\n",
              "    <tr>\n",
              "      <th>4.2</th>\n",
              "      <td>1</td>\n",
              "    </tr>\n",
              "    <tr>\n",
              "      <th>9.6</th>\n",
              "      <td>1</td>\n",
              "    </tr>\n",
              "    <tr>\n",
              "      <th>5.5</th>\n",
              "      <td>1</td>\n",
              "    </tr>\n",
              "    <tr>\n",
              "      <th>4.8</th>\n",
              "      <td>1</td>\n",
              "    </tr>\n",
              "    <tr>\n",
              "      <th>5.7</th>\n",
              "      <td>1</td>\n",
              "    </tr>\n",
              "  </tbody>\n",
              "</table>\n",
              "<p>62 rows × 1 columns</p>\n",
              "</div><br><label><b>dtype:</b> int64</label>"
            ]
          },
          "metadata": {},
          "execution_count": 99
        }
      ],
      "source": [
        "traindata['VGscore'].value_counts()"
      ]
    },
    {
      "cell_type": "markdown",
      "id": "1a85e6c5",
      "metadata": {
        "id": "1a85e6c5"
      },
      "source": [
        "## Categorical Columns\n",
        "\n",
        "Categorical columns in this data are fairly clean. Besides some missing values, we do not see other issues."
      ]
    },
    {
      "cell_type": "code",
      "execution_count": null,
      "id": "076327b0",
      "metadata": {
        "colab": {
          "base_uri": "https://localhost:8080/",
          "height": 1000
        },
        "id": "076327b0",
        "outputId": "41bb5eb0-bfa8-49d7-bfbb-b9cbc75c4027"
      },
      "outputs": [
        {
          "output_type": "display_data",
          "data": {
            "text/plain": [
              "<Figure size 800x80 with 1 Axes>"
            ],
            "image/png": "[encoded data removed]"
          },
          "metadata": {}
        },
        {
          "output_type": "stream",
          "name": "stdout",
          "text": [
            "\n"
          ]
        },
        {
          "output_type": "display_data",
          "data": {
            "text/plain": [
              "<Figure size 800x80 with 1 Axes>"
            ],
            "image/png": "[encoded data removed]"
          },
          "metadata": {}
        },
        {
          "output_type": "stream",
          "name": "stdout",
          "text": [
            "\n"
          ]
        },
        {
          "output_type": "display_data",
          "data": {
            "text/plain": [
              "<Figure size 800x440 with 1 Axes>"
            ],
            "image/png": "[encoded data removed]"
          },
          "metadata": {}
        },
        {
          "output_type": "stream",
          "name": "stdout",
          "text": [
            "\n"
          ]
        },
        {
          "output_type": "display_data",
          "data": {
            "text/plain": [
              "<Figure size 800x120 with 1 Axes>"
            ],
            "image/png": "[encoded data removed]"
          },
          "metadata": {}
        },
        {
          "output_type": "stream",
          "name": "stdout",
          "text": [
            "\n"
          ]
        },
        {
          "output_type": "display_data",
          "data": {
            "text/plain": [
              "<Figure size 800x520 with 1 Axes>"
            ],
            "image/png": "[encoded data removed]"
          },
          "metadata": {}
        },
        {
          "output_type": "stream",
          "name": "stdout",
          "text": [
            "\n"
          ]
        }
      ],
      "source": [
        "cat_cols = ['Loan Status', 'Term','Years in current job', 'Home Ownership', 'Purpose']\n",
        "\n",
        "for col in cat_cols:\n",
        "    freq_table = traindata[col].value_counts()\n",
        "    plt.figure(figsize = (8,len(freq_table)*0.4)) #a bit formatting so that chart look better\n",
        "    freq_table.plot.barh(title='Bar chart for frequencies of ' + col)\n",
        "    plt.show()\n",
        "    print()"
      ]
    },
    {
      "cell_type": "markdown",
      "id": "d2c45936",
      "metadata": {
        "id": "d2c45936"
      },
      "source": [
        "# Data Processing\n",
        "\n"
      ]
    },
    {
      "cell_type": "code",
      "source": [
        "num_cols = [column for column in traindata.columns if (traindata[column].dtypes == np.int64) or (traindata[column].dtypes == np.float64)]\n",
        "cat_cols = ['title', 'user_Score','release_Date', 'console', 'url', 'publisher', 'developer', 'tot_ship', 'tot_sale', 'na_sale', 'pal_sale', 'jp_sale', 'other_sale', 'last_update', 'VGscore']\n",
        "\n",
        "train_nums = traindata[num_cols]\n",
        "train_cats = traindata[cat_cols]"
      ],
      "metadata": {
        "id": "8ie012wo6Tru"
      },
      "id": "8ie012wo6Tru",
      "execution_count": 102,
      "outputs": []
    }
  ],
  "metadata": {
    "kernelspec": {
      "display_name": "Python 3 (ipykernel)",
      "language": "python",
      "name": "python3"
    },
    "language_info": {
      "codemirror_mode": {
        "name": "ipython",
        "version": 3
      },
      "file_extension": ".py",
      "mimetype": "text/x-python",
      "name": "python",
      "nbconvert_exporter": "python",
      "pygments_lexer": "ipython3",
      "version": "3.9.11"
    },
    "colab": {
      "provenance": [],
      "include_colab_link": true
    }
  },
  "nbformat": 4,
  "nbformat_minor": 5
}